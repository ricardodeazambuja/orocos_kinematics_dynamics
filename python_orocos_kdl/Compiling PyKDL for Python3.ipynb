{
 "cells": [
  {
   "cell_type": "markdown",
   "metadata": {},
   "source": [
    "# These instructions were created for this docker image: \n",
    "https://hub.docker.com/r/ricardodeazambuja/tensorflow_gpu_py3_opencv_dlib_jupyter"
   ]
  },
  {
   "cell_type": "markdown",
   "metadata": {},
   "source": [
    "## First, install eigen3!!"
   ]
  },
  {
   "cell_type": "code",
   "execution_count": 1,
   "metadata": {},
   "outputs": [
    {
     "name": "stdout",
     "output_type": "stream",
     "text": [
      "Reading package lists... Done\n",
      "Building dependency tree       \n",
      "Reading state information... Done\n",
      "libeigen3-dev is already the newest version (3.3~beta1-2).\n",
      "0 upgraded, 0 newly installed, 0 to remove and 16 not upgraded.\n"
     ]
    }
   ],
   "source": [
    "!sudo apt install libeigen3-dev -y"
   ]
  },
  {
   "cell_type": "code",
   "execution_count": 2,
   "metadata": {},
   "outputs": [
    {
     "data": {
      "text/plain": [
       "'/tf/notebooks/orocos_kinematics_dynamics/python_orocos_kdl'"
      ]
     },
     "execution_count": 2,
     "metadata": {},
     "output_type": "execute_result"
    }
   ],
   "source": [
    "pwd"
   ]
  },
  {
   "cell_type": "code",
   "execution_count": 3,
   "metadata": {},
   "outputs": [
    {
     "name": "stdout",
     "output_type": "stream",
     "text": [
      "/tf/notebooks/orocos_kinematics_dynamics\n"
     ]
    }
   ],
   "source": [
    "cd .."
   ]
  },
  {
   "cell_type": "code",
   "execution_count": 4,
   "metadata": {},
   "outputs": [
    {
     "name": "stdout",
     "output_type": "stream",
     "text": [
      "/tf/notebooks/orocos_kinematics_dynamics/orocos_kdl\n"
     ]
    }
   ],
   "source": [
    "cd orocos_kdl/"
   ]
  },
  {
   "cell_type": "code",
   "execution_count": 5,
   "metadata": {},
   "outputs": [],
   "source": [
    "mkdir build"
   ]
  },
  {
   "cell_type": "code",
   "execution_count": 6,
   "metadata": {},
   "outputs": [
    {
     "name": "stdout",
     "output_type": "stream",
     "text": [
      "/tf/notebooks/orocos_kinematics_dynamics/orocos_kdl/build\n"
     ]
    }
   ],
   "source": [
    "cd build/"
   ]
  },
  {
   "cell_type": "code",
   "execution_count": 7,
   "metadata": {},
   "outputs": [
    {
     "name": "stdout",
     "output_type": "stream",
     "text": [
      "-- The C compiler identification is GNU 5.4.0\n",
      "-- The CXX compiler identification is GNU 5.4.0\n",
      "-- Check for working C compiler: /usr/bin/cc\n",
      "-- Check for working C compiler: /usr/bin/cc -- works\n",
      "-- Detecting C compiler ABI info\n",
      "-- Detecting C compiler ABI info - done\n",
      "-- Detecting C compile features\n",
      "-- Detecting C compile features - done\n",
      "-- Check for working CXX compiler: /usr/bin/c++\n",
      "-- Check for working CXX compiler: /usr/bin/c++ -- works\n",
      "-- Detecting CXX compiler ABI info\n",
      "-- Detecting CXX compiler ABI info - done\n",
      "-- Detecting CXX compile features\n",
      "-- Detecting CXX compile features - done\n",
      "-- Orocos KDL version  (1.4.0)\n",
      "-- Setting build type to 'Release'\n",
      "-- Found Eigen3: /usr/include/eigen3 (Required is at least version \"2.91.0\") \n",
      "-- Performing Test HAVE_STL_CONTAINER_INCOMPLETE_TYPES\n",
      "-- Performing Test HAVE_STL_CONTAINER_INCOMPLETE_TYPES - Success\n",
      "-- Configuring done\n",
      "-- Generating done\n",
      "-- Build files have been written to: /tf/notebooks/orocos_kinematics_dynamics/orocos_kdl/build\n"
     ]
    }
   ],
   "source": [
    "!cmake .."
   ]
  },
  {
   "cell_type": "code",
   "execution_count": 8,
   "metadata": {},
   "outputs": [
    {
     "name": "stdout",
     "output_type": "stream",
     "text": [
      "\u001b[35m\u001b[1mScanning dependencies of target orocos-kdl\u001b[0m\n",
      "[  1%] \u001b[32mBuilding CXX object src/CMakeFiles/orocos-kdl.dir/tree.cpp.o\u001b[0m\n",
      "[  3%] \u001b[32mBuilding CXX object src/CMakeFiles/orocos-kdl.dir/trajectory.cpp.o\u001b[0m\n",
      "[  4%] \u001b[32mBuilding CXX object src/CMakeFiles/orocos-kdl.dir/velocityprofile.cpp.o\u001b[0m\n",
      "[  6%] \u001b[32mBuilding CXX object src/CMakeFiles/orocos-kdl.dir/path_circle.cpp.o\u001b[0m\n",
      "[  8%] \u001b[32mBuilding CXX object src/CMakeFiles/orocos-kdl.dir/velocityprofile_trap.cpp.o\u001b[0m\n",
      "[  9%] \u001b[32mBuilding CXX object src/CMakeFiles/orocos-kdl.dir/frameacc.cpp.o\u001b[0m\n",
      "[ 11%] \u001b[32mBuilding CXX object src/CMakeFiles/orocos-kdl.dir/velocityprofile_spline.cpp.o\u001b[0m\n",
      "[ 13%] \u001b[32mBuilding CXX object src/CMakeFiles/orocos-kdl.dir/joint.cpp.o\u001b[0m\n",
      "[ 14%] \u001b[32mBuilding CXX object src/CMakeFiles/orocos-kdl.dir/path_roundedcomposite.cpp.o\u001b[0m\n",
      "[ 16%] \u001b[32mBuilding CXX object src/CMakeFiles/orocos-kdl.dir/segment.cpp.o\u001b[0m\n",
      "[ 18%] \u001b[32mBuilding CXX object src/CMakeFiles/orocos-kdl.dir/rotationalinertia.cpp.o\u001b[0m\n",
      "[ 19%] \u001b[32mBuilding CXX object src/CMakeFiles/orocos-kdl.dir/path_cyclic_closed.cpp.o\u001b[0m\n",
      "[ 21%] \u001b[32mBuilding CXX object src/CMakeFiles/orocos-kdl.dir/trajectory_segment.cpp.o\u001b[0m\n",
      "[ 22%] \u001b[32mBuilding CXX object src/CMakeFiles/orocos-kdl.dir/kinfam_io.cpp.o\u001b[0m\n",
      "[ 24%] \u001b[32mBuilding CXX object src/CMakeFiles/orocos-kdl.dir/utilities/svd_HH.cpp.o\u001b[0m\n",
      "[ 26%] \u001b[32mBuilding CXX object src/CMakeFiles/orocos-kdl.dir/utilities/svd_eigen_HH.cpp.o\u001b[0m\n",
      "[ 27%] \u001b[32mBuilding CXX object src/CMakeFiles/orocos-kdl.dir/path_point.cpp.o\u001b[0m\n",
      "[ 29%] \u001b[32mBuilding CXX object src/CMakeFiles/orocos-kdl.dir/jntarrayvel.cpp.o\u001b[0m\n",
      "[ 31%] \u001b[32mBuilding CXX object src/CMakeFiles/orocos-kdl.dir/chainiksolverpos_nr_jl.cpp.o\u001b[0m\n",
      "[ 32%] \u001b[32mBuilding CXX object src/CMakeFiles/orocos-kdl.dir/path_line.cpp.o\u001b[0m\n",
      "[ 34%] \u001b[32mBuilding CXX object src/CMakeFiles/orocos-kdl.dir/chainjnttojacdotsolver.cpp.o\u001b[0m\n",
      "[ 36%] \u001b[32mBuilding CXX object src/CMakeFiles/orocos-kdl.dir/chainidsolver_vereshchagin.cpp.o\u001b[0m\n",
      "[ 37%] \u001b[32mBuilding CXX object src/CMakeFiles/orocos-kdl.dir/treejnttojacsolver.cpp.o\u001b[0m\n",
      "[ 39%] \u001b[32mBuilding CXX object src/CMakeFiles/orocos-kdl.dir/rigidbodyinertia.cpp.o\u001b[0m\n",
      "[ 40%] \u001b[32mBuilding CXX object src/CMakeFiles/orocos-kdl.dir/chainfksolvervel_recursive.cpp.o\u001b[0m\n",
      "[ 42%] \u001b[32mBuilding CXX object src/CMakeFiles/orocos-kdl.dir/treeiksolvervel_wdls.cpp.o\u001b[0m\n",
      "[ 44%] \u001b[32mBuilding CXX object src/CMakeFiles/orocos-kdl.dir/treefksolverpos_recursive.cpp.o\u001b[0m\n",
      "[ 45%] \u001b[32mBuilding CXX object src/CMakeFiles/orocos-kdl.dir/jntarrayacc.cpp.o\u001b[0m\n",
      "[ 47%] \u001b[32mBuilding CXX object src/CMakeFiles/orocos-kdl.dir/jntarray.cpp.o\u001b[0m\n",
      "[ 49%] \u001b[32mBuilding CXX object src/CMakeFiles/orocos-kdl.dir/chaindynparam.cpp.o\u001b[0m\n",
      "[ 50%] \u001b[32mBuilding CXX object src/CMakeFiles/orocos-kdl.dir/frames_io.cpp.o\u001b[0m\n",
      "[ 52%] \u001b[32mBuilding CXX object src/CMakeFiles/orocos-kdl.dir/jntspaceinertiamatrix.cpp.o\u001b[0m\n",
      "[ 54%] \u001b[32mBuilding CXX object src/CMakeFiles/orocos-kdl.dir/chainiksolvervel_pinv.cpp.o\u001b[0m\n",
      "[ 55%] \u001b[32mBuilding CXX object src/CMakeFiles/orocos-kdl.dir/treeiksolverpos_nr_jl.cpp.o\u001b[0m\n",
      "[ 57%] \u001b[32mBuilding CXX object src/CMakeFiles/orocos-kdl.dir/chainiksolverpos_nr.cpp.o\u001b[0m\n",
      "[ 59%] \u001b[32mBuilding CXX object src/CMakeFiles/orocos-kdl.dir/trajectory_composite.cpp.o\u001b[0m\n",
      "[ 60%] \u001b[32mBuilding CXX object src/CMakeFiles/orocos-kdl.dir/framevel.cpp.o\u001b[0m\n",
      "[ 62%] \u001b[32mBuilding CXX object src/CMakeFiles/orocos-kdl.dir/treeiksolverpos_online.cpp.o\u001b[0m\n",
      "[ 63%] \u001b[32mBuilding CXX object src/CMakeFiles/orocos-kdl.dir/chainfksolverpos_recursive.cpp.o\u001b[0m\n",
      "[ 65%] \u001b[32mBuilding CXX object src/CMakeFiles/orocos-kdl.dir/chainiksolverpos_lma.cpp.o\u001b[0m\n",
      "[ 67%] \u001b[32mBuilding CXX object src/CMakeFiles/orocos-kdl.dir/path.cpp.o\u001b[0m\n",
      "[ 68%] \u001b[32mBuilding CXX object src/CMakeFiles/orocos-kdl.dir/chainiksolvervel_wdls.cpp.o\u001b[0m\n",
      "[ 70%] \u001b[32mBuilding CXX object src/CMakeFiles/orocos-kdl.dir/path_composite.cpp.o\u001b[0m\n",
      "[ 72%] \u001b[32mBuilding CXX object src/CMakeFiles/orocos-kdl.dir/jacobian.cpp.o\u001b[0m\n",
      "[ 73%] \u001b[32mBuilding CXX object src/CMakeFiles/orocos-kdl.dir/chainidsolver_recursive_newton_euler.cpp.o\u001b[0m\n",
      "[ 75%] \u001b[32mBuilding CXX object src/CMakeFiles/orocos-kdl.dir/velocityprofile_rect.cpp.o\u001b[0m\n",
      "[ 77%] \u001b[32mBuilding CXX object src/CMakeFiles/orocos-kdl.dir/chain.cpp.o\u001b[0m\n",
      "[ 78%] \u001b[32mBuilding CXX object src/CMakeFiles/orocos-kdl.dir/rotational_interpolation.cpp.o\u001b[0m\n",
      "[ 80%] \u001b[32mBuilding CXX object src/CMakeFiles/orocos-kdl.dir/chainiksolvervel_pinv_nso.cpp.o\u001b[0m\n",
      "[ 81%] \u001b[32mBuilding CXX object src/CMakeFiles/orocos-kdl.dir/articulatedbodyinertia.cpp.o\u001b[0m\n",
      "[ 83%] \u001b[32mBuilding CXX object src/CMakeFiles/orocos-kdl.dir/frames.cpp.o\u001b[0m\n",
      "[ 85%] \u001b[32mBuilding CXX object src/CMakeFiles/orocos-kdl.dir/trajectory_stationary.cpp.o\u001b[0m\n",
      "[ 86%] \u001b[32mBuilding CXX object src/CMakeFiles/orocos-kdl.dir/velocityprofile_dirac.cpp.o\u001b[0m\n",
      "[ 88%] \u001b[32mBuilding CXX object src/CMakeFiles/orocos-kdl.dir/chainiksolvervel_pinv_givens.cpp.o\u001b[0m\n",
      "[ 90%] \u001b[32mBuilding CXX object src/CMakeFiles/orocos-kdl.dir/rotational_interpolation_sa.cpp.o\u001b[0m\n",
      "[ 91%] \u001b[32mBuilding CXX object src/CMakeFiles/orocos-kdl.dir/velocityprofile_traphalf.cpp.o\u001b[0m\n",
      "[ 93%] \u001b[32mBuilding CXX object src/CMakeFiles/orocos-kdl.dir/chainjnttojacsolver.cpp.o\u001b[0m\n",
      "[ 95%] \u001b[32mBuilding CXX object src/CMakeFiles/orocos-kdl.dir/utilities/utility_io.cxx.o\u001b[0m\n",
      "[ 96%] \u001b[32mBuilding CXX object src/CMakeFiles/orocos-kdl.dir/utilities/error_stack.cxx.o\u001b[0m\n",
      "[ 98%] \u001b[32mBuilding CXX object src/CMakeFiles/orocos-kdl.dir/utilities/utility.cxx.o\u001b[0m\n",
      "[100%] \u001b[32m\u001b[1mLinking CXX shared library liborocos-kdl.so\u001b[0m\n",
      "[100%] Built target orocos-kdl\n"
     ]
    }
   ],
   "source": [
    "!make"
   ]
  },
  {
   "cell_type": "code",
   "execution_count": 9,
   "metadata": {},
   "outputs": [
    {
     "name": "stdout",
     "output_type": "stream",
     "text": [
      "[100%] Built target orocos-kdl\n",
      "\u001b[36mInstall the project...\u001b[0m\n",
      "-- Install configuration: \"Release\"\n",
      "-- Installing: /usr/local/share/orocos_kdl/cmake/orocos_kdl-config.cmake\n",
      "-- Installing: /usr/local/share/orocos_kdl/cmake/orocos_kdl-config-version.cmake\n",
      "-- Installing: /usr/local/share/orocos_kdl/cmake/OrocosKDLTargets.cmake\n",
      "-- Installing: /usr/local/share/orocos_kdl/cmake/OrocosKDLTargets-release.cmake\n",
      "-- Installing: /usr/local/share/orocos_kdl/package.xml\n",
      "-- Installing: /usr/local/lib/liborocos-kdl.so.1.4.0\n",
      "-- Installing: /usr/local/lib/liborocos-kdl.so.1.4\n",
      "-- Installing: /usr/local/lib/liborocos-kdl.so\n",
      "-- Set runtime path of \"/usr/local/lib/liborocos-kdl.so.1.4.0\" to \"$ORIGIN/../lib\"\n",
      "-- Installing: /usr/local/include/kdl/trajectory.hpp\n",
      "-- Installing: /usr/local/include/kdl/kdl.hpp\n",
      "-- Installing: /usr/local/include/kdl/trajectory_stationary.hpp\n",
      "-- Installing: /usr/local/include/kdl/segment.hpp\n",
      "-- Installing: /usr/local/include/kdl/path_point.hpp\n",
      "-- Installing: /usr/local/include/kdl/jntspaceinertiamatrix.hpp\n",
      "-- Installing: /usr/local/include/kdl/chainidsolver.hpp\n",
      "-- Installing: /usr/local/include/kdl/velocityprofile_spline.hpp\n",
      "-- Installing: /usr/local/include/kdl/rigidbodyinertia.hpp\n",
      "-- Installing: /usr/local/include/kdl/tree.hpp\n",
      "-- Installing: /usr/local/include/kdl/path_circle.hpp\n",
      "-- Installing: /usr/local/include/kdl/chainiksolvervel_pinv_givens.hpp\n",
      "-- Installing: /usr/local/include/kdl/chainiksolverpos_lma.hpp\n",
      "-- Installing: /usr/local/include/kdl/chainfksolver.hpp\n",
      "-- Installing: /usr/local/include/kdl/frames.hpp\n",
      "-- Installing: /usr/local/include/kdl/frames_io.hpp\n",
      "-- Installing: /usr/local/include/kdl/rotational_interpolation_sa.hpp\n",
      "-- Installing: /usr/local/include/kdl/chainidsolver_recursive_newton_euler.hpp\n",
      "-- Installing: /usr/local/include/kdl/chainiksolverpos_nr_jl.hpp\n",
      "-- Installing: /usr/local/include/kdl/jntarrayvel.hpp\n",
      "-- Installing: /usr/local/include/kdl/path_composite.hpp\n",
      "-- Installing: /usr/local/include/kdl/chainfksolverpos_recursive.hpp\n",
      "-- Installing: /usr/local/include/kdl/treefksolverpos_recursive.hpp\n",
      "-- Installing: /usr/local/include/kdl/framevel_io.hpp\n",
      "-- Installing: /usr/local/include/kdl/treeiksolverpos_nr_jl.hpp\n",
      "-- Installing: /usr/local/include/kdl/path.hpp\n",
      "-- Installing: /usr/local/include/kdl/path_line.hpp\n",
      "-- Installing: /usr/local/include/kdl/trajectory_segment.hpp\n",
      "-- Installing: /usr/local/include/kdl/chainfksolvervel_recursive.hpp\n",
      "-- Installing: /usr/local/include/kdl/jntarrayacc.hpp\n",
      "-- Installing: /usr/local/include/kdl/treejnttojacsolver.hpp\n",
      "-- Installing: /usr/local/include/kdl/velocityprofile_traphalf.hpp\n",
      "-- Installing: /usr/local/include/kdl/motion.hpp\n",
      "-- Installing: /usr/local/include/kdl/chain.hpp\n",
      "-- Installing: /usr/local/include/kdl/jacobian.hpp\n",
      "-- Installing: /usr/local/include/kdl/treeiksolverpos_online.hpp\n",
      "-- Installing: /usr/local/include/kdl/treeiksolver.hpp\n",
      "-- Installing: /usr/local/include/kdl/framevel.hpp\n",
      "-- Installing: /usr/local/include/kdl/kinfam.hpp\n",
      "-- Installing: /usr/local/include/kdl/chainidsolver_vereshchagin.hpp\n",
      "-- Installing: /usr/local/include/kdl/frameacc.hpp\n",
      "-- Installing: /usr/local/include/kdl/solveri.hpp\n",
      "-- Installing: /usr/local/include/kdl/chainiksolvervel_pinv_nso.hpp\n",
      "-- Installing: /usr/local/include/kdl/treeiksolvervel_wdls.hpp\n",
      "-- Installing: /usr/local/include/kdl/chainiksolvervel_wdls.hpp\n",
      "-- Installing: /usr/local/include/kdl/chainiksolvervel_pinv.hpp\n",
      "-- Installing: /usr/local/include/kdl/rotationalinertia.hpp\n",
      "-- Installing: /usr/local/include/kdl/treefksolver.hpp\n",
      "-- Installing: /usr/local/include/kdl/articulatedbodyinertia.hpp\n",
      "-- Installing: /usr/local/include/kdl/chainjnttojacdotsolver.hpp\n",
      "-- Installing: /usr/local/include/kdl/chaindynparam.hpp\n",
      "-- Installing: /usr/local/include/kdl/rotational_interpolation.hpp\n",
      "-- Installing: /usr/local/include/kdl/chainiksolver.hpp\n",
      "-- Installing: /usr/local/include/kdl/velocityprofile.hpp\n",
      "-- Installing: /usr/local/include/kdl/velocityprofile_dirac.hpp\n",
      "-- Installing: /usr/local/include/kdl/kinfam_io.hpp\n",
      "-- Installing: /usr/local/include/kdl/velocityprofile_trap.hpp\n",
      "-- Installing: /usr/local/include/kdl/joint.hpp\n",
      "-- Installing: /usr/local/include/kdl/path_cyclic_closed.hpp\n",
      "-- Installing: /usr/local/include/kdl/chainiksolverpos_nr.hpp\n",
      "-- Installing: /usr/local/include/kdl/velocityprofile_rect.hpp\n",
      "-- Installing: /usr/local/include/kdl/trajectory_composite.hpp\n",
      "-- Installing: /usr/local/include/kdl/chainjnttojacsolver.hpp\n",
      "-- Installing: /usr/local/include/kdl/jntarray.hpp\n",
      "-- Installing: /usr/local/include/kdl/frameacc_io.hpp\n",
      "-- Installing: /usr/local/include/kdl/path_roundedcomposite.hpp\n",
      "-- Installing: /usr/local/include/kdl/stiffness.hpp\n",
      "-- Installing: /usr/local/include/kdl/frameacc.inl\n",
      "-- Installing: /usr/local/include/kdl/frames.inl\n",
      "-- Installing: /usr/local/include/kdl/framevel.inl\n",
      "-- Installing: /usr/local/include/kdl/config.h\n",
      "-- Installing: /usr/local/include/kdl/utilities/error.h\n",
      "-- Installing: /usr/local/include/kdl/utilities/rall1d.h\n",
      "-- Installing: /usr/local/include/kdl/utilities/rallNd.h\n",
      "-- Installing: /usr/local/include/kdl/utilities/utility_io.h\n",
      "-- Installing: /usr/local/include/kdl/utilities/rall1d_io.h\n",
      "-- Installing: /usr/local/include/kdl/utilities/error_stack.h\n",
      "-- Installing: /usr/local/include/kdl/utilities/rall2d_io.h\n",
      "-- Installing: /usr/local/include/kdl/utilities/utility.h\n",
      "-- Installing: /usr/local/include/kdl/utilities/rall2d.h\n",
      "-- Installing: /usr/local/include/kdl/utilities/traits.h\n",
      "-- Installing: /usr/local/include/kdl/utilities/kdl-config.h\n",
      "-- Installing: /usr/local/include/kdl/utilities/svd_HH.hpp\n",
      "-- Installing: /usr/local/include/kdl/utilities/svd_eigen_HH.hpp\n",
      "-- Installing: /usr/local/include/kdl/utilities/svd_eigen_Macie.hpp\n",
      "-- Installing: /usr/local/lib/pkgconfig/orocos-kdl.pc\n",
      "-- Installing: /usr/local/lib/pkgconfig/orocos_kdl.pc\n"
     ]
    }
   ],
   "source": [
    "!sudo make install"
   ]
  },
  {
   "cell_type": "code",
   "execution_count": 10,
   "metadata": {},
   "outputs": [
    {
     "data": {
      "text/plain": [
       "'/tf/notebooks/orocos_kinematics_dynamics/orocos_kdl/build'"
      ]
     },
     "execution_count": 10,
     "metadata": {},
     "output_type": "execute_result"
    }
   ],
   "source": [
    "pwd"
   ]
  },
  {
   "cell_type": "code",
   "execution_count": 11,
   "metadata": {},
   "outputs": [
    {
     "name": "stdout",
     "output_type": "stream",
     "text": [
      "/tf/notebooks/orocos_kinematics_dynamics/orocos_kdl\n"
     ]
    }
   ],
   "source": [
    "cd .."
   ]
  },
  {
   "cell_type": "code",
   "execution_count": 12,
   "metadata": {},
   "outputs": [
    {
     "name": "stdout",
     "output_type": "stream",
     "text": [
      "/tf/notebooks/orocos_kinematics_dynamics\n"
     ]
    }
   ],
   "source": [
    "cd .."
   ]
  },
  {
   "cell_type": "code",
   "execution_count": 13,
   "metadata": {},
   "outputs": [
    {
     "name": "stdout",
     "output_type": "stream",
     "text": [
      "/tf/notebooks/orocos_kinematics_dynamics/python_orocos_kdl\n"
     ]
    }
   ],
   "source": [
    "cd python_orocos_kdl/"
   ]
  },
  {
   "cell_type": "code",
   "execution_count": 14,
   "metadata": {},
   "outputs": [],
   "source": [
    "mkdir build/"
   ]
  },
  {
   "cell_type": "code",
   "execution_count": 15,
   "metadata": {},
   "outputs": [
    {
     "name": "stdout",
     "output_type": "stream",
     "text": [
      "/tf/notebooks/orocos_kinematics_dynamics/python_orocos_kdl/build\n"
     ]
    }
   ],
   "source": [
    "cd build/"
   ]
  },
  {
   "cell_type": "code",
   "execution_count": 16,
   "metadata": {},
   "outputs": [
    {
     "name": "stdout",
     "output_type": "stream",
     "text": [
      "-- The C compiler identification is GNU 5.4.0\n",
      "-- The CXX compiler identification is GNU 5.4.0\n",
      "-- Check for working C compiler: /usr/bin/cc\n",
      "-- Check for working C compiler: /usr/bin/cc -- works\n",
      "-- Detecting C compiler ABI info\n",
      "-- Detecting C compiler ABI info - done\n",
      "-- Detecting C compile features\n",
      "-- Detecting C compile features - done\n",
      "-- Check for working CXX compiler: /usr/bin/c++\n",
      "-- Check for working CXX compiler: /usr/bin/c++ -- works\n",
      "-- Detecting CXX compiler ABI info\n",
      "-- Detecting CXX compiler ABI info - done\n",
      "-- Detecting CXX compile features\n",
      "-- Detecting CXX compile features - done\n",
      "-- Found PythonInterp: /usr/bin/python2 (found suitable version \"2.7.12\", minimum required is \"2\") \n",
      "-- Found PythonLibs: /usr/lib/x86_64-linux-gnu/libpython2.7.so (found suitable version \"2.7.12\", minimum required is \"2.7\") \n",
      "Traceback (most recent call last):\n",
      "  File \"/tf/notebooks/orocos_kinematics_dynamics/python_orocos_kdl/cmake/FindSIP.py\", line 8, in <module>\n",
      "    import sipconfig\n",
      "ImportError: No module named sipconfig\n",
      "CMake Error at cmake/FindSIP.cmake:63 (MESSAGE):\n",
      "  Could not find SIP\n",
      "Call Stack (most recent call first):\n",
      "  CMakeLists.txt:14 (find_package)\n",
      "\n",
      "\n",
      "-- Configuring incomplete, errors occurred!\n",
      "See also \"/tf/notebooks/orocos_kinematics_dynamics/python_orocos_kdl/build/CMakeFiles/CMakeOutput.log\".\n"
     ]
    }
   ],
   "source": [
    "!cmake .."
   ]
  },
  {
   "cell_type": "markdown",
   "metadata": {},
   "source": [
    "## It's necessary to install SIP!\n",
    "https://www.riverbankcomputing.com/static/Docs/sip/installation.html"
   ]
  },
  {
   "cell_type": "code",
   "execution_count": 18,
   "metadata": {},
   "outputs": [
    {
     "name": "stdout",
     "output_type": "stream",
     "text": [
      "  % Total    % Received % Xferd  Average Speed   Time    Time     Time  Current\n",
      "                                 Dload  Upload   Total   Spent    Left  Speed\n",
      "100 1025k  100 1025k    0     0  1613k      0 --:--:-- --:--:-- --:--:-- 1611k\n"
     ]
    }
   ],
   "source": [
    "!curl https://www.riverbankcomputing.com/static/Downloads/sip/sip-4.19.14.tar.gz -o sip-4.19.14.tar.gz"
   ]
  },
  {
   "cell_type": "code",
   "execution_count": 19,
   "metadata": {},
   "outputs": [
    {
     "name": "stdout",
     "output_type": "stream",
     "text": [
      "CMakeCache.txt  \u001b[0m\u001b[01;34mCMakeFiles\u001b[0m/  sip-4.19.14.tar.gz\r\n"
     ]
    }
   ],
   "source": [
    "ls"
   ]
  },
  {
   "cell_type": "code",
   "execution_count": 20,
   "metadata": {},
   "outputs": [],
   "source": [
    "!tar -xzf sip-4.19.14.tar.gz"
   ]
  },
  {
   "cell_type": "code",
   "execution_count": 21,
   "metadata": {},
   "outputs": [
    {
     "name": "stdout",
     "output_type": "stream",
     "text": [
      "CMakeCache.txt  \u001b[0m\u001b[01;34mCMakeFiles\u001b[0m/  \u001b[01;34msip-4.19.14\u001b[0m/  sip-4.19.14.tar.gz\r\n"
     ]
    }
   ],
   "source": [
    "ls"
   ]
  },
  {
   "cell_type": "code",
   "execution_count": 22,
   "metadata": {},
   "outputs": [
    {
     "name": "stdout",
     "output_type": "stream",
     "text": [
      "/tf/notebooks/orocos_kinematics_dynamics/python_orocos_kdl/build/sip-4.19.14\n"
     ]
    }
   ],
   "source": [
    "cd sip-4.19.14/"
   ]
  },
  {
   "cell_type": "code",
   "execution_count": 23,
   "metadata": {},
   "outputs": [
    {
     "name": "stdout",
     "output_type": "stream",
     "text": [
      "This is SIP 4.19.14 for Python 3.5.2 on linux.\n",
      "The SIP code generator will be installed in /usr/bin.\n",
      "The sip.h header file will be installed in /usr/include/python3.5m.\n",
      "The sip module will be installed in /usr/lib/python3/dist-packages.\n",
      "The sip.pyi stub file will be installed in /usr/lib/python3/dist-packages.\n",
      "The default directory to install .sip files in is /usr/share/sip.\n",
      "Creating sipconfig.py...\n",
      "Creating top level Makefile...\n",
      "Creating sip code generator Makefile...\n",
      "Creating sip module Makefile...\n"
     ]
    }
   ],
   "source": [
    "!python configure.py"
   ]
  },
  {
   "cell_type": "code",
   "execution_count": 24,
   "metadata": {},
   "outputs": [
    {
     "name": "stdout",
     "output_type": "stream",
     "text": [
      "make[1]: Entering directory '/tf/notebooks/orocos_kinematics_dynamics/python_orocos_kdl/build/sip-4.19.14/sipgen'\n",
      "gcc -c -pipe -O2 -Wall -W -DNDEBUG -I. -o main.o main.c\n",
      "gcc -c -pipe -O2 -Wall -W -DNDEBUG -I. -o transform.o transform.c\n",
      "gcc -c -pipe -O2 -Wall -W -DNDEBUG -I. -o gencode.o gencode.c\n",
      "gcc -c -pipe -O2 -Wall -W -DNDEBUG -I. -o extracts.o extracts.c\n",
      "gcc -c -pipe -O2 -Wall -W -DNDEBUG -I. -o export.o export.c\n",
      "gcc -c -pipe -O2 -Wall -W -DNDEBUG -I. -o type_hints.o type_hints.c\n",
      "gcc -c -pipe -O2 -Wall -W -DNDEBUG -I. -o heap.o heap.c\n",
      "gcc -c -pipe -O2 -Wall -W -DNDEBUG -I. -o parser.o parser.c\n",
      "gcc -c -pipe -O2 -Wall -W -DNDEBUG -I. -o lexer.o lexer.c\n",
      "g++  -o sip main.o transform.o gencode.o extracts.o export.o type_hints.o heap.o parser.o lexer.o \n",
      "make[1]: Leaving directory '/tf/notebooks/orocos_kinematics_dynamics/python_orocos_kdl/build/sip-4.19.14/sipgen'\n",
      "make[1]: Entering directory '/tf/notebooks/orocos_kinematics_dynamics/python_orocos_kdl/build/sip-4.19.14/siplib'\n",
      "gcc -c -pipe -fPIC -O2 -Wall -W -DNDEBUG -I. -I/usr/include/python3.5m -o siplib.o siplib.c\n",
      "\u001b[01m\u001b[Ksiplib.c:\u001b[m\u001b[K In function ‘\u001b[01m\u001b[KparsePass2\u001b[m\u001b[K’:\n",
      "\u001b[01m\u001b[Ksiplib.c:5789:32:\u001b[m\u001b[K \u001b[01;35m\u001b[Kwarning: \u001b[m\u001b[K‘\u001b[01m\u001b[Kowner\u001b[m\u001b[K’ may be used uninitialized in this function [-Wmaybe-uninitialized]\n",
      "                         *owner = arg;\n",
      "\u001b[01;32m\u001b[K                                ^\u001b[m\u001b[K\n",
      "\u001b[01m\u001b[Ksiplib.c:\u001b[m\u001b[K In function ‘\u001b[01m\u001b[Kslot_richcompare\u001b[m\u001b[K’:\n",
      "\u001b[01m\u001b[Ksiplib.c:11410:52:\u001b[m\u001b[K \u001b[01;35m\u001b[Kwarning: \u001b[m\u001b[K‘\u001b[01m\u001b[Kst\u001b[m\u001b[K’ may be used uninitialized in this function [-Wmaybe-uninitialized]\n",
      "     if ((f = (PyObject *(*)(PyObject *,PyObject *))findSlot(self, st)) == NULL)\n",
      "\u001b[01;32m\u001b[K                                                    ^\u001b[m\u001b[K\n",
      "gcc -c -pipe -fPIC -O2 -Wall -W -DNDEBUG -I. -I/usr/include/python3.5m -o apiversions.o apiversions.c\n",
      "gcc -c -pipe -fPIC -O2 -Wall -W -DNDEBUG -I. -I/usr/include/python3.5m -o descriptors.o descriptors.c\n",
      "gcc -c -pipe -fPIC -O2 -Wall -W -DNDEBUG -I. -I/usr/include/python3.5m -o qtlib.o qtlib.c\n",
      "gcc -c -pipe -fPIC -O2 -Wall -W -DNDEBUG -I. -I/usr/include/python3.5m -o threads.o threads.c\n",
      "gcc -c -pipe -fPIC -O2 -Wall -W -DNDEBUG -I. -I/usr/include/python3.5m -o objmap.o objmap.c\n",
      "gcc -c -pipe -fPIC -O2 -Wall -W -DNDEBUG -I. -I/usr/include/python3.5m -o voidptr.o voidptr.c\n",
      "gcc -c -pipe -fPIC -O2 -Wall -W -DNDEBUG -I. -I/usr/include/python3.5m -o array.o array.c\n",
      "gcc -c -pipe -fPIC -O2 -Wall -W -DNDEBUG -I. -I/usr/include/python3.5m -o int_convertors.o int_convertors.c\n",
      "g++ -c -pipe -fPIC -O2 -Wall -W -DNDEBUG -I. -I/usr/include/python3.5m -o bool.o bool.cpp\n",
      "g++ -shared -Wl,--version-script=sip.exp -o sip.so siplib.o apiversions.o descriptors.o qtlib.o threads.o objmap.o voidptr.o array.o int_convertors.o bool.o \n",
      "make[1]: Leaving directory '/tf/notebooks/orocos_kinematics_dynamics/python_orocos_kdl/build/sip-4.19.14/siplib'\n"
     ]
    }
   ],
   "source": [
    "!make"
   ]
  },
  {
   "cell_type": "code",
   "execution_count": 25,
   "metadata": {},
   "outputs": [
    {
     "name": "stdout",
     "output_type": "stream",
     "text": [
      "make[1]: Entering directory '/tf/notebooks/orocos_kinematics_dynamics/python_orocos_kdl/build/sip-4.19.14/sipgen'\r\n",
      "cp -f sip /usr/bin/sip\r\n",
      "cp -f /tf/notebooks/orocos_kinematics_dynamics/python_orocos_kdl/build/sip-4.19.14/siplib/sip.h /usr/include/python3.5m/sip.h\r\n",
      "make[1]: Leaving directory '/tf/notebooks/orocos_kinematics_dynamics/python_orocos_kdl/build/sip-4.19.14/sipgen'\r\n",
      "make[1]: Entering directory '/tf/notebooks/orocos_kinematics_dynamics/python_orocos_kdl/build/sip-4.19.14/siplib'\r\n",
      "cp -f sip.so /usr/lib/python3/dist-packages/sip.so\r\n",
      "strip /usr/lib/python3/dist-packages/sip.so\r\n",
      "cp -f /tf/notebooks/orocos_kinematics_dynamics/python_orocos_kdl/build/sip-4.19.14/sip.pyi /usr/lib/python3/dist-packages/sip.pyi\r\n",
      "make[1]: Leaving directory '/tf/notebooks/orocos_kinematics_dynamics/python_orocos_kdl/build/sip-4.19.14/siplib'\r\n",
      "cp -f sipconfig.py /usr/lib/python3/dist-packages/sipconfig.py\r\n",
      "cp -f /tf/notebooks/orocos_kinematics_dynamics/python_orocos_kdl/build/sip-4.19.14/sipdistutils.py /usr/lib/python3/dist-packages/sipdistutils.py\r\n",
      "/usr/local/bin/python /tf/notebooks/orocos_kinematics_dynamics/python_orocos_kdl/build/sip-4.19.14/mk_distinfo.py \"\" /usr/lib/python3/dist-packages/sip-4.19.14.dist-info installed.txt\r\n"
     ]
    }
   ],
   "source": [
    "!sudo make install"
   ]
  },
  {
   "cell_type": "code",
   "execution_count": 26,
   "metadata": {},
   "outputs": [
    {
     "name": "stdout",
     "output_type": "stream",
     "text": [
      "/tf/notebooks/orocos_kinematics_dynamics/python_orocos_kdl/build\n"
     ]
    }
   ],
   "source": [
    "cd .."
   ]
  },
  {
   "cell_type": "code",
   "execution_count": 27,
   "metadata": {},
   "outputs": [
    {
     "name": "stdout",
     "output_type": "stream",
     "text": [
      "Traceback (most recent call last):\r\n",
      "  File \"/tf/notebooks/orocos_kinematics_dynamics/python_orocos_kdl/cmake/FindSIP.py\", line 8, in <module>\r\n",
      "    import sipconfig\r\n",
      "ImportError: No module named sipconfig\r\n",
      "CMake Error at cmake/FindSIP.cmake:63 (MESSAGE):\r\n",
      "  Could not find SIP\r\n",
      "Call Stack (most recent call first):\r\n",
      "  CMakeLists.txt:14 (find_package)\r\n",
      "\r\n",
      "\r\n",
      "-- Configuring incomplete, errors occurred!\r\n",
      "See also \"/tf/notebooks/orocos_kinematics_dynamics/python_orocos_kdl/build/CMakeFiles/CMakeOutput.log\".\r\n"
     ]
    }
   ],
   "source": [
    "!cmake .."
   ]
  },
  {
   "cell_type": "markdown",
   "metadata": {},
   "source": [
    "## CMakeLists.txt is using Python 2!\n",
    "SET(PYTHON_VERSION 2 CACHE STRING \"Python Version\")  \n",
    "We will change that to 3!"
   ]
  },
  {
   "cell_type": "code",
   "execution_count": 32,
   "metadata": {},
   "outputs": [
    {
     "name": "stdout",
     "output_type": "stream",
     "text": [
      "/tf/notebooks/orocos_kinematics_dynamics/python_orocos_kdl\n"
     ]
    }
   ],
   "source": [
    "cd .."
   ]
  },
  {
   "cell_type": "code",
   "execution_count": 34,
   "metadata": {},
   "outputs": [
    {
     "name": "stdout",
     "output_type": "stream",
     "text": [
      "Overwriting CMakeLists.txt\n"
     ]
    }
   ],
   "source": [
    "%%file CMakeLists.txt\n",
    "cmake_minimum_required(VERSION 2.4.6)\n",
    "\n",
    "project(python_orocos_kdl)\n",
    "\n",
    "find_package(orocos_kdl)\n",
    "include_directories(${orocos_kdl_INCLUDE_DIRS})\n",
    "link_directories(${orocos_kdl_LIBRARY_DIRS})\n",
    "\n",
    "SET(PYTHON_VERSION 3 CACHE STRING \"Python Version\")\n",
    "find_package(PythonInterp ${PYTHON_VERSION} REQUIRED)\n",
    "find_package(PythonLibs ${PYTHON_VERSION_MAJOR}.${PYTHON_VERSION_MINOR} REQUIRED)\n",
    "execute_process(COMMAND ${PYTHON_EXECUTABLE} -c \"from distutils.sysconfig import get_python_lib; print(get_python_lib(plat_specific=True, prefix=''))\" OUTPUT_VARIABLE PYTHON_SITE_PACKAGES OUTPUT_STRIP_TRAILING_WHITESPACE)\n",
    "list(APPEND CMAKE_MODULE_PATH ${PROJECT_SOURCE_DIR}/cmake)\n",
    "find_package(SIP REQUIRED)\n",
    "include(SIPMacros)\n",
    "\n",
    "include_directories(${SIP_INCLUDE_DIR} ${PYTHON_INCLUDE_DIRS})\n",
    "\n",
    "file(GLOB SIP_FILES \"${CMAKE_CURRENT_SOURCE_DIR}/*.sip\")\n",
    "set(SIP_INCLUDES ${SIP_FILES})\n",
    "set(SIP_EXTRA_OPTIONS \"-o\")\n",
    "set(PYTHON_SITE_PACKAGES_INSTALL_DIR ${CMAKE_INSTALL_PREFIX}/${PYTHON_SITE_PACKAGES})\n",
    "add_sip_python_module(PyKDL PyKDL/PyKDL.sip ${orocos_kdl_LIBRARIES})\n",
    "\n",
    "install(FILES package.xml DESTINATION share/python_orocos_kdl)\n",
    "\n",
    "find_package(catkin QUIET)\n",
    "if(catkin_FOUND)\n",
    "  catkin_add_env_hooks(python_orocos_kdl_site_packages SHELLS bash tcsh zsh DIRECTORY ${CMAKE_CURRENT_SOURCE_DIR}/env-hooks)\n",
    "endif()\n"
   ]
  },
  {
   "cell_type": "code",
   "execution_count": 35,
   "metadata": {},
   "outputs": [
    {
     "name": "stdout",
     "output_type": "stream",
     "text": [
      "/tf/notebooks/orocos_kinematics_dynamics/python_orocos_kdl/build\n"
     ]
    }
   ],
   "source": [
    "cd build/"
   ]
  },
  {
   "cell_type": "code",
   "execution_count": 37,
   "metadata": {},
   "outputs": [],
   "source": [
    "rm CMakeCache.txt"
   ]
  },
  {
   "cell_type": "code",
   "execution_count": 38,
   "metadata": {},
   "outputs": [
    {
     "name": "stdout",
     "output_type": "stream",
     "text": [
      "-- Found PythonInterp: /usr/bin/python3 (found suitable version \"3.5.2\", minimum required is \"3\") \n",
      "-- Found PythonLibs: /usr/lib/x86_64-linux-gnu/libpython3.5m.so (found suitable version \"3.5.2\", minimum required is \"3.5\") \n",
      "-- Found SIP version: 4.19.14\n",
      "-- Configuring done\n",
      "-- Generating done\n",
      "-- Build files have been written to: /tf/notebooks/orocos_kinematics_dynamics/python_orocos_kdl/build\n"
     ]
    }
   ],
   "source": [
    "!cmake .."
   ]
  },
  {
   "cell_type": "code",
   "execution_count": 39,
   "metadata": {},
   "outputs": [
    {
     "name": "stdout",
     "output_type": "stream",
     "text": [
      "[  9%] \u001b[34m\u001b[1mGenerating PyKDL/sipPyKDLpart0.cpp, PyKDL/sipPyKDLpart1.cpp, PyKDL/sipPyKDLpart2.cpp, PyKDL/sipPyKDLpart3.cpp, PyKDL/sipPyKDLpart4.cpp, PyKDL/sipPyKDLpart5.cpp, PyKDL/sipPyKDLpart6.cpp, PyKDL/sipPyKDLpart7.cpp\u001b[0m\n",
      "\n",
      "sip: Deprecation warning: /tf/notebooks/orocos_kinematics_dynamics/python_orocos_kdl/PyKDL/PyKDL.sip:23: %Module version numbers are deprecated and ignored\n",
      "\u001b[35m\u001b[1mScanning dependencies of target python_module_PyKDL\u001b[0m\n",
      "[ 18%] \u001b[32mBuilding CXX object CMakeFiles/python_module_PyKDL.dir/PyKDL/sipPyKDLpart0.o\u001b[0m\n",
      "[ 27%] \u001b[32mBuilding CXX object CMakeFiles/python_module_PyKDL.dir/PyKDL/sipPyKDLpart1.o\u001b[0m\n",
      "[ 36%] \u001b[32mBuilding CXX object CMakeFiles/python_module_PyKDL.dir/PyKDL/sipPyKDLpart2.o\u001b[0m\n",
      "[ 45%] \u001b[32mBuilding CXX object CMakeFiles/python_module_PyKDL.dir/PyKDL/sipPyKDLpart3.o\u001b[0m\n",
      "[ 54%] \u001b[32mBuilding CXX object CMakeFiles/python_module_PyKDL.dir/PyKDL/sipPyKDLpart4.o\u001b[0m\n",
      "[ 63%] \u001b[32mBuilding CXX object CMakeFiles/python_module_PyKDL.dir/PyKDL/sipPyKDLpart5.o\u001b[0m\n",
      "[ 72%] \u001b[32mBuilding CXX object CMakeFiles/python_module_PyKDL.dir/PyKDL/sipPyKDLpart6.o\u001b[0m\n",
      "[ 81%] \u001b[32mBuilding CXX object CMakeFiles/python_module_PyKDL.dir/PyKDL/sipPyKDLpart7.o\u001b[0m\n",
      "[ 90%] \u001b[32m\u001b[1mLinking CXX shared library PyKDL.so\u001b[0m\n",
      "[100%] Built target python_module_PyKDL\n"
     ]
    }
   ],
   "source": [
    "!make"
   ]
  },
  {
   "cell_type": "code",
   "execution_count": 40,
   "metadata": {},
   "outputs": [
    {
     "name": "stdout",
     "output_type": "stream",
     "text": [
      "[100%] Built target python_module_PyKDL\n",
      "\u001b[32m\u001b[1mLinking CXX shared library CMakeFiles/CMakeRelink.dir/PyKDL.so\u001b[0m\n",
      "\u001b[36mInstall the project...\u001b[0m\n",
      "-- Install configuration: \"\"\n",
      "-- Installing: /usr/local/lib/python3/dist-packages/PyKDL.so\n",
      "-- Installing: /usr/local/share/python_orocos_kdl/package.xml\n"
     ]
    }
   ],
   "source": [
    "!sudo make install"
   ]
  },
  {
   "cell_type": "markdown",
   "metadata": {},
   "source": [
    "## Testing the examples from: http://wiki.ros.org/kdl/Tutorials/Frame%20transformations%20%28Python%29"
   ]
  },
  {
   "cell_type": "code",
   "execution_count": 41,
   "metadata": {},
   "outputs": [
    {
     "name": "stdout",
     "output_type": "stream",
     "text": [
      "[   -0.966798,   -0.238174,  -0.0925973;\n",
      "           -0,    0.362358,   -0.932039;\n",
      "     0.255541,   -0.901094,   -0.350327]\n",
      "[    0.540302,           0,    0.841471;\n",
      "            0,           1,           0;\n",
      "    -0.841471,           0,    0.540302]\n",
      "[           1,           0,           0;\n",
      "            0,           1,           0;\n",
      "            0,           0,           1]\n",
      "[[    0.540302,           0,    0.841471;\n",
      "            0,           1,           0;\n",
      "    -0.841471,           0,    0.540302]\n",
      "[           1,           3,           5]]\n"
     ]
    }
   ],
   "source": [
    "import PyKDL\n",
    "\n",
    "# create a vector\n",
    "v = PyKDL.Vector(1,3,5)\n",
    "\n",
    "# create a rotation from Roll Pitch, Yaw angles\n",
    "r1 = PyKDL.Rotation.RPY(1.2, 3.4, 0)\n",
    "print(r1)\n",
    "\n",
    "# create a rotation from XYZ Euler angles\n",
    "r2 = PyKDL.Rotation.EulerZYX(0, 1, 0)\n",
    "print(r2)\n",
    "\n",
    "# create a rotation from a rotation matrix\n",
    "r3 = PyKDL.Rotation(1,0,0, 0,1,0, 0,0,1)\n",
    "print(r3)\n",
    "\n",
    "# create a frame from a vector and a rotation\n",
    "f = PyKDL.Frame(r2, v)\n",
    "\n",
    "print(f)"
   ]
  },
  {
   "cell_type": "code",
   "execution_count": 42,
   "metadata": {},
   "outputs": [
    {
     "name": "stdout",
     "output_type": "stream",
     "text": [
      "[    0.540302,           0,    0.841471;\n",
      "            0,           1,           0;\n",
      "    -0.841471,           0,    0.540302]\n",
      "[0.0, 1.0, 0.0]\n",
      "[0.0, 1.0, 0.0]\n"
     ]
    }
   ],
   "source": [
    "import PyKDL\n",
    "\n",
    "# frame\n",
    "f = PyKDL.Frame(PyKDL.Rotation.RPY(0,1,0),\n",
    "                PyKDL.Vector(3,2,4))\n",
    "\n",
    "# get the origin (a Vector) of the frame\n",
    "origin = f.p\n",
    "\n",
    "# get the x component of the origin\n",
    "x = origin.x()\n",
    "x = origin[0]\n",
    "\n",
    "# get the rotation of the frame\n",
    "rot = f.M\n",
    "print(rot)\n",
    "\n",
    "# get ZYX Euler angles from the rotation\n",
    "[Rz, Ry, Rx] = rot.GetEulerZYX()\n",
    "print([Rz, Ry, Rx])\n",
    "\n",
    "# get the RPY (fixed axis) from the rotation\n",
    "[R, P, Y] = rot.GetRPY()\n",
    "print([R, P, Y])"
   ]
  },
  {
   "cell_type": "code",
   "execution_count": 44,
   "metadata": {},
   "outputs": [
    {
     "name": "stdout",
     "output_type": "stream",
     "text": [
      "[           1,           0,           0]\n",
      "[      3.5403,           2,     3.15853]\n"
     ]
    }
   ],
   "source": [
    "import PyKDL\n",
    "\n",
    "# define a frame\n",
    "f = PyKDL.Frame(PyKDL.Rotation.RPY(0,1,0),\n",
    "                PyKDL.Vector(3,2,4))\n",
    "\n",
    "# define a point\n",
    "p = PyKDL.Vector(1, 0, 0)\n",
    "print(p)\n",
    "\n",
    "# transform this point with f\n",
    "p = f * p\n",
    "print(p)"
   ]
  },
  {
   "cell_type": "code",
   "execution_count": null,
   "metadata": {},
   "outputs": [],
   "source": []
  }
 ],
 "metadata": {
  "kernelspec": {
   "display_name": "Python 3",
   "language": "python",
   "name": "python3"
  },
  "language_info": {
   "codemirror_mode": {
    "name": "ipython",
    "version": 3
   },
   "file_extension": ".py",
   "mimetype": "text/x-python",
   "name": "python",
   "nbconvert_exporter": "python",
   "pygments_lexer": "ipython3",
   "version": "3.5.2"
  }
 },
 "nbformat": 4,
 "nbformat_minor": 2
}
